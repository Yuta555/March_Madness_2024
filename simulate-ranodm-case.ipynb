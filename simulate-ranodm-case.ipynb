{
 "cells": [
  {
   "cell_type": "code",
   "execution_count": 140,
   "metadata": {},
   "outputs": [],
   "source": [
    "import pandas as pd\n",
    "import numpy as np\n",
    "\n",
    "slots = pd.read_csv('./march-machine-learning-mania-2024/slots_2024.csv')\n",
    "results = pd.read_csv('./labels/submission01.csv')\n",
    "refs = pd.read_csv('./labels/reference.csv').sort_values(by='Slot')\n",
    "results = results[results['Tournament']=='M']"
   ]
  },
  {
   "cell_type": "code",
   "execution_count": 141,
   "metadata": {},
   "outputs": [],
   "source": [
    "# Predict round-by-round from R1 to R6 (Championship)\n",
    "\n",
    "def random_prediction():\n",
    "    Round = ['R'+str(i) for i in range(1, 7)]\n",
    "    result_table = slots.copy().reset_index(drop=True)\n",
    "\n",
    "    random_preds = []\n",
    "    for i in range(len(Round)):\n",
    "        current_round_df = result_table[result_table['DayCategory']==Round[i]]\n",
    "\n",
    "        # Add teamid to df\n",
    "        #current_round_df = current_round_df.merge(mseeds2024, left_on=['Season', 'StrongSeed'], right_on=['Season', 'Seed'], how='left')\n",
    "        #current_round_df = current_round_df.merge(mseeds2024, left_on=['Season', 'WeakSeed'], right_on=['Season', 'Seed'], how='left')\n",
    "        #current_round_df = current_round_df.drop(columns=['Seed_x', 'Seed_y']).rename(columns={'StrongSeed': 'WSeed', 'WeakSeed': 'LSeed', 'TeamID_x': 'WTeamID', 'TeamID_y': 'LTeamID'})\n",
    "\n",
    "        random_pred = np.random.randint(2, size=len(current_round_df))\n",
    "        \n",
    "        pred_df = pd.DataFrame({\n",
    "            'Slot': current_round_df['Slot'],\n",
    "            'Pred_Winner': random_pred})\n",
    "        \n",
    "        # Write the prediction results onto result_table and prediction dfs\n",
    "        for i, row in pred_df.iterrows():\n",
    "            if row['Pred_Winner'] == 1:\n",
    "                winner = result_table.loc[result_table['Slot']==row['Slot'], 'StrongSeed'].values[0]\n",
    "                \n",
    "                if row['Slot'] in result_table['StrongSeed'].values:\n",
    "                    result_table.loc[result_table['StrongSeed']==row['Slot'], 'StrongSeed'] = winner\n",
    "                else:\n",
    "                    result_table.loc[result_table['WeakSeed']==row['Slot'], 'WeakSeed'] = winner\n",
    "            else:\n",
    "                winner = result_table.loc[result_table['Slot']==row['Slot'], 'WeakSeed'].values[0]\n",
    "                \n",
    "                if row['Slot'] in result_table['StrongSeed'].values:\n",
    "                    result_table.loc[result_table['StrongSeed']==row['Slot'], 'StrongSeed'] = winner\n",
    "                else:\n",
    "                    result_table.loc[result_table['WeakSeed']==row['Slot'], 'WeakSeed'] = winner\n",
    "        \n",
    "            random_preds.append(winner)    \n",
    "\n",
    "        if i > len(Round) - 2:\n",
    "            continue \n",
    "        \n",
    "        for j, row in result_table[result_table['DayCategory']==Round[i+1]].iterrows():\n",
    "            strong = result_table.loc[j, 'StrongSeed']\n",
    "            weak = result_table.loc[j, 'WeakSeed']\n",
    "            if int(strong[1:3]) > int(weak[1:3]):\n",
    "                result_table.loc[j, 'StrongSeed'], result_table.loc[j, 'WeakSeed'] = weak, strong\n",
    "\n",
    "    random_preds = np.array(random_preds)\n",
    "\n",
    "    return random_preds"
   ]
  },
  {
   "cell_type": "code",
   "execution_count": 146,
   "metadata": {},
   "outputs": [
    {
     "name": "stdout",
     "output_type": "stream",
     "text": [
      "Accuracy of random prediction: 0.501\n"
     ]
    }
   ],
   "source": [
    "target_round = ['R1']\n",
    "N = 3000 # Num of simulation\n",
    "\n",
    "num_corrects = []\n",
    "for i in range(N):\n",
    "    mask = [r in target_round for r in results['Slot'].str.slice(0,2)]\n",
    "\n",
    "    random_preds = random_prediction()\n",
    "    correct = (refs[mask]['Reference'].values==random_preds[mask]).sum()\n",
    "\n",
    "    num_corrects.append(correct)\n",
    "\n",
    "avg_correct = np.array(num_corrects).mean()\n",
    "total = len(refs[mask])\n",
    "acc = avg_correct / total\n",
    "print(f'Accuracy of random prediction: {round(acc, 3)}')"
   ]
  },
  {
   "cell_type": "code",
   "execution_count": null,
   "metadata": {},
   "outputs": [],
   "source": []
  }
 ],
 "metadata": {
  "kernelspec": {
   "display_name": "Python 3",
   "language": "python",
   "name": "python3"
  },
  "language_info": {
   "codemirror_mode": {
    "name": "ipython",
    "version": 3
   },
   "file_extension": ".py",
   "mimetype": "text/x-python",
   "name": "python",
   "nbconvert_exporter": "python",
   "pygments_lexer": "ipython3",
   "version": "3.11.5"
  }
 },
 "nbformat": 4,
 "nbformat_minor": 2
}
